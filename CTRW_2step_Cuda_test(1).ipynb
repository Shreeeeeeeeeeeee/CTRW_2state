{
  "nbformat": 4,
  "nbformat_minor": 0,
  "metadata": {
    "colab": {
      "provenance": [],
      "gpuType": "T4",
      "include_colab_link": true
    },
    "kernelspec": {
      "name": "python3",
      "display_name": "Python 3"
    },
    "language_info": {
      "name": "python"
    },
    "accelerator": "GPU"
  },
  "cells": [
    {
      "cell_type": "markdown",
      "metadata": {
        "id": "view-in-github",
        "colab_type": "text"
      },
      "source": [
        "<a href=\"https://colab.research.google.com/github/Shreeeeeeeeeeeee/CTRW_2state/blob/main/CTRW_2step_Cuda_test(1).ipynb\" target=\"_parent\"><img src=\"https://colab.research.google.com/assets/colab-badge.svg\" alt=\"Open In Colab\"/></a>"
      ]
    },
    {
      "cell_type": "code",
      "execution_count": 16,
      "metadata": {
        "id": "e8ocEHUfAY1q",
        "colab": {
          "base_uri": "https://localhost:8080/"
        },
        "outputId": "f66e777b-043d-453b-a51a-f49b3f1b38cf"
      },
      "outputs": [
        {
          "output_type": "stream",
          "name": "stdout",
          "text": [
            "Found existing installation: numba 0.61.0\n",
            "Uninstalling numba-0.61.0:\n",
            "  Would remove:\n",
            "    /usr/local/bin/numba\n",
            "    /usr/local/lib/python3.11/dist-packages/numba-0.61.0.dist-info/*\n",
            "    /usr/local/lib/python3.11/dist-packages/numba/*\n",
            "Proceed (Y/n)? n\n",
            "Found existing installation: numba-cuda 0.4.0\n",
            "Uninstalling numba-cuda-0.4.0:\n",
            "  Would remove:\n",
            "    /usr/local/lib/python3.11/dist-packages/_numba_cuda_redirector.pth\n",
            "    /usr/local/lib/python3.11/dist-packages/_numba_cuda_redirector.py\n",
            "    /usr/local/lib/python3.11/dist-packages/numba_cuda-0.4.0.dist-info/*\n",
            "    /usr/local/lib/python3.11/dist-packages/numba_cuda/*\n",
            "Proceed (Y/n)? n\n",
            "Requirement already satisfied: numba==0.61 in /usr/local/lib/python3.11/dist-packages (0.61.0)\n",
            "Requirement already satisfied: llvmlite<0.45,>=0.44.0dev0 in /usr/local/lib/python3.11/dist-packages (from numba==0.61) (0.44.0)\n",
            "Requirement already satisfied: numpy<2.2,>=1.24 in /usr/local/lib/python3.11/dist-packages (from numba==0.61) (2.0.2)\n"
          ]
        }
      ],
      "source": [
        "import numpy as np\n",
        "from numba import cuda, float32\n",
        "import matplotlib.pyplot as plt\n",
        "from math import sqrt\n",
        "from math import copysign\n",
        "import time as tpack\n",
        "#!pip uninstall numba numba-cuda\n",
        "#!pip install numba==0.61\n"
      ]
    },
    {
      "cell_type": "code",
      "source": [
        "!uv pip install -q --system numba-cuda==0.4.0\n",
        "from numba import config\n",
        "config.CUDA_ENABLE_PYNVJITLINK = 1"
      ],
      "metadata": {
        "id": "s-MLj-M8VrQr"
      },
      "execution_count": 17,
      "outputs": []
    },
    {
      "cell_type": "code",
      "source": [
        "!nvidia-smi"
      ],
      "metadata": {
        "colab": {
          "base_uri": "https://localhost:8080/"
        },
        "id": "gQc6Nc9JjT7B",
        "outputId": "cfa3b559-0ecd-4e5a-aae8-ffabefb9c2da"
      },
      "execution_count": 18,
      "outputs": [
        {
          "output_type": "stream",
          "name": "stdout",
          "text": [
            "Mon Jul 21 08:26:44 2025       \n",
            "+-----------------------------------------------------------------------------------------+\n",
            "| NVIDIA-SMI 550.54.15              Driver Version: 550.54.15      CUDA Version: 12.4     |\n",
            "|-----------------------------------------+------------------------+----------------------+\n",
            "| GPU  Name                 Persistence-M | Bus-Id          Disp.A | Volatile Uncorr. ECC |\n",
            "| Fan  Temp   Perf          Pwr:Usage/Cap |           Memory-Usage | GPU-Util  Compute M. |\n",
            "|                                         |                        |               MIG M. |\n",
            "|=========================================+========================+======================|\n",
            "|   0  Tesla T4                       Off |   00000000:00:04.0 Off |                    0 |\n",
            "| N/A   55C    P0             28W /   70W |     498MiB /  15360MiB |      0%      Default |\n",
            "|                                         |                        |                  N/A |\n",
            "+-----------------------------------------+------------------------+----------------------+\n",
            "                                                                                         \n",
            "+-----------------------------------------------------------------------------------------+\n",
            "| Processes:                                                                              |\n",
            "|  GPU   GI   CI        PID   Type   Process name                              GPU Memory |\n",
            "|        ID   ID                                                               Usage      |\n",
            "|=========================================================================================|\n",
            "+-----------------------------------------------------------------------------------------+\n"
          ]
        }
      ]
    },
    {
      "cell_type": "code",
      "source": [
        "import sys\n",
        "\n",
        "def sizeof_fmt(num, suffix='B'):\n",
        "    \"\"\"Convert a size in bytes to a more readable format.\"\"\"\n",
        "    for unit in ['','K','M','G','T','P','E','Z']:\n",
        "        if abs(num) < 1024.0:\n",
        "            return \"%3.1f%s%s\" % (num, unit, suffix)\n",
        "        num /= 1024.0\n",
        "    return \"%.1f%s%s\" % (num, 'Y', suffix)\n",
        "\n",
        "def get_variable_sizes(min_size_mb=1):\n",
        "    \"\"\"Get the size of all variables in the global scope and print them.\"\"\"\n",
        "    min_size_bytes = min_size_mb * 1024 * 1024\n",
        "    variables = {}\n",
        "    total_size = 0\n",
        "\n",
        "    for name, obj in globals().items():\n",
        "        if not name.startswith('_') and not callable(obj) and not isinstance(obj, type(sys)):\n",
        "            size = sys.getsizeof(obj)\n",
        "            total_size += size\n",
        "            if size >= min_size_bytes:\n",
        "                variables[name] = size\n",
        "\n",
        "    # Sort variables by size\n",
        "    sorted_vars = sorted(variables.items(), key=lambda item: item[1], reverse=True)\n",
        "\n",
        "    # Print the variable sizes\n",
        "    print(f\"{'Variable':<20}{'Size':>15}\")\n",
        "    print(\"-\" * 35)\n",
        "    for name, size in sorted_vars:\n",
        "        print(f\"{name:<20}{sizeof_fmt(size):>15}\")\n",
        "\n",
        "    # Print the total size\n",
        "    print(\"\\nTotal size of all variables: \", sizeof_fmt(total_size))"
      ],
      "metadata": {
        "id": "NQXHyq8-oQiN"
      },
      "execution_count": 19,
      "outputs": []
    },
    {
      "cell_type": "code",
      "source": [],
      "metadata": {
        "id": "LurxwHu1oQsv"
      },
      "execution_count": 19,
      "outputs": []
    },
    {
      "cell_type": "markdown",
      "metadata": {
        "id": "S459yr9TNohv"
      },
      "source": [
        "#### Define a function that can write two numpy arrays or one column and other two-dimensional matrix"
      ]
    },
    {
      "cell_type": "code",
      "execution_count": 20,
      "metadata": {
        "id": "x3LW9AnzNohx"
      },
      "outputs": [],
      "source": [
        "#writes a two column file taking two numpy arrays\n",
        "def write_to_file(x,y,fname):\n",
        "    if (x.ndim > 1):\n",
        "        print (\"Can write only one dimensional x-axis array, The dimension of x-array is \", x.ndim)\n",
        "    elif(y.ndim > 2):\n",
        "        print (\"Can write only two dimensional y-axis array, The dimension of y-array is \", y.ndim)\n",
        "    elif (y.ndim == 2 and x.shape[0] ==  y.shape[1]):\n",
        "        f = open(fname,'w')\n",
        "        for i in range(x.shape[0]):\n",
        "            ystr = ''\n",
        "            for k in range(y.shape[0]):\n",
        "                ystr = ystr+'\\t'+str(y[k,i])\n",
        "            f.write(str(x[i])+ystr+'\\n')\n",
        "        f.close()\n",
        "    elif (y.ndim == 1 and  x.shape[0] ==  y.shape[0]):\n",
        "        f = open(fname,'w')\n",
        "        for i in range(x.shape[0]):\n",
        "            f.write(str(x[i])+'\\t'+str(y[i])+'\\n')\n",
        "        f.close()\n",
        "    else:\n",
        "        print (\"The arrays have incompatible number of rows with \", x.shape[0], \" and \", y.shape[1])\n",
        "    return"
      ]
    },
    {
      "cell_type": "markdown",
      "metadata": {
        "id": "RIaedefMNohy"
      },
      "source": [
        "#### Define a function that can read a file and write numpy arrays"
      ]
    },
    {
      "cell_type": "code",
      "execution_count": 21,
      "metadata": {
        "id": "mTrxOIIhNohz"
      },
      "outputs": [],
      "source": [
        "#read a n column file and returns two numpy arrays\n",
        "def read_file(fname):\n",
        "    f = open(fname,'r')\n",
        "    lines = f.readlines()\n",
        "    #check the number of columns\n",
        "    ncol = len(lines[0].split())\n",
        "    nrow = len(lines)\n",
        "    f.close()\n",
        "\n",
        "    if (ncol < 1):\n",
        "        print (\"The file has less than one column, something wrong!!\")\n",
        "        return [0],[0]\n",
        "\n",
        "    elif (ncol == 1):\n",
        "        x = np.zeros((nrow),dtype='float')\n",
        "        for i in range(nrow):\n",
        "            x[i] = float(lines[i].split()[0])\n",
        "        return x\n",
        "\n",
        "    elif (ncol == 2):\n",
        "\n",
        "        x = np.zeros((nrow),dtype='float')\n",
        "        y = np.zeros((nrow),dtype='float')\n",
        "        for i in range(nrow):\n",
        "            x[i] = float(lines[i].split()[0])\n",
        "            y[i] = float(lines[i].split()[1])\n",
        "        return x,y\n",
        "\n",
        "    else :\n",
        "        x = np.zeros((nrow),dtype='float')\n",
        "        y = np.zeros((ncol-1,nrow),dtype='float')\n",
        "        for i in range(nrow):\n",
        "            x[i] = float( lines[i].split()[0] )\n",
        "            for k in range(1,ncol):\n",
        "                y[k-1,i] = float( lines[i].split()[k] )\n",
        "        return x,y\n"
      ]
    },
    {
      "cell_type": "code",
      "source": [],
      "metadata": {
        "id": "v2XWRndioeFM"
      },
      "execution_count": 21,
      "outputs": []
    },
    {
      "cell_type": "markdown",
      "metadata": {
        "id": "mt77sIgqNoh1"
      },
      "source": [
        "### Defining autocorrelation using FCA algorithm (which uses FFT)"
      ]
    },
    {
      "cell_type": "code",
      "execution_count": 22,
      "metadata": {
        "id": "cgyxg4XXNoh2"
      },
      "outputs": [],
      "source": [
        "#Autocorrelation using FFT, theory shown in the above cell, with the case of S_{AB}\n",
        "def autocorrFFT(x):\n",
        "    N=len(x)\n",
        "    F = np.fft.fft(x, n=2*N)  #2*N because of zero-padding\n",
        "    PSD = F * F.conjugate()\n",
        "    res = np.fft.ifft(PSD)\n",
        "    res= (res[:N]).real   #now we have the autocorrelation in convention B\n",
        "    n=N*np.ones(N)-np.arange(0,N) #divide res(m) by (N-m)\n",
        "    return res/n #this is the autocorrelation in convention A"
      ]
    },
    {
      "cell_type": "markdown",
      "metadata": {
        "id": "y3PliCDwNoh3"
      },
      "source": [
        "### Defining a function to calculate MSD using FCA (defined above)"
      ]
    },
    {
      "cell_type": "code",
      "execution_count": 23,
      "metadata": {
        "id": "b1k-b2KnNoh3"
      },
      "outputs": [],
      "source": [
        "#program to calculate the MSD\n",
        "#number of timesteps\n",
        "#A function to calculate the MSD from a trajectory,\n",
        "#r - the trajectory is a numpy array : (n_tsteps,3)\n",
        "#The function returns a numpy array with the shape : (n_tsteps)\n",
        "def calc_msd(r,fft=True):\n",
        "    if (fft): #cacluation of MSD using FFT\n",
        "        N=len(r)\n",
        "        D=np.square(r).sum(axis=1)\n",
        "        D=np.append(D,0)\n",
        "        S2=sum([autocorrFFT(r[:, i]) for i in range(r.shape[1])])\n",
        "        Q=2*D.sum()\n",
        "        S1=np.zeros(N)\n",
        "        for m in range(N):\n",
        "            Q=Q-D[m-1]-D[N-m]\n",
        "            S1[m]=Q/(N-m)\n",
        "        return S1-2*S2\n",
        "\n",
        "    else: #calculation using the direct scheme\n",
        "        N_tsteps =  r.shape[0]\n",
        "        i,j,k = 0,0,0\n",
        "        #f_t = IntProgress(min=0, max=N_tsteps,bar_style='success',description=fds2) # instantiate the timesteps bar\n",
        "        i,j,k = 0,0,0\n",
        "        #display(f_t) # display the molecules bar\n",
        "        msd = np.zeros((r.shape),dtype='float64')\n",
        "        msd_final = np.zeros((N_tsteps),dtype='float64')\n",
        "        for j in range(0,N_tsteps-1):\n",
        "            for k in range(0,N_tsteps-j):\n",
        "                msd[j,:] = msd[j,:] + (r[k+j,:]-r[k,:])**2\n",
        "            msd[j,:] = msd[j,:]/float(N_tsteps-j)\n",
        "            msd_final[j] = np.sum(msd[j,:])\n",
        "            #f_t.value += 1\n",
        "\n",
        "        return msd_final"
      ]
    },
    {
      "cell_type": "code",
      "execution_count": 23,
      "metadata": {
        "id": "vANdqPt0Noh4"
      },
      "outputs": [],
      "source": []
    },
    {
      "cell_type": "code",
      "source": [],
      "metadata": {
        "id": "PQDcMOMboeR1"
      },
      "execution_count": 23,
      "outputs": []
    },
    {
      "cell_type": "code",
      "source": [
        "@cuda.jit\n",
        "def ctrw_kernel(trand, xrand, trand2, xrand2, Xdist, x1, y1, x2, y2, Nt, Nens):\n",
        "    \"\"\"\n",
        "    CUDA kernel for simulating 2D Continuous Time Random Walk (CTRW) with a cage-jump diffusion mechanism.\n",
        "\n",
        "    This function executes in parallel across multiple CUDA threads to simulate trajectories for each ensemble member.\n",
        "\n",
        "    Parameters:\n",
        "    - trand (ndarray): Waiting times for caged diffusion.\n",
        "    - xrand (ndarray): Jump lengths for caged diffusion.\n",
        "    - trand2 (ndarray): Waiting times for jump diffusion.\n",
        "    - xrand2 (ndarray): Jump lengths for jump diffusion.\n",
        "    - Xdist (ndarray): Cage size distribution for each trajectory.\n",
        "    - x1, y1 (ndarray): Position arrays for caged diffusion.\n",
        "    - x2, y2 (ndarray): Position arrays for jump diffusion.\n",
        "    - Nt (int): Number of time steps.\n",
        "    - Nens (int): Number of ensemble trajectories.\n",
        "    \"\"\"\n",
        "    k = cuda.grid(1)  # Get thread index\n",
        "    if k >= Nens:\n",
        "        return\n",
        "\n",
        "    stop = 0\n",
        "    i = 0\n",
        "\n",
        "    # Simulating the caged diffusion process\n",
        "    while stop < Nt:\n",
        "        start = stop\n",
        "        stop += int(trand[i, k, 0])  # Update stop time with waiting time\n",
        "\n",
        "        # Compute radius and norm of random jump\n",
        "        r1 = sqrt(x1[start - 1, k]**2 + y1[start - 1, k]**2) if start > 0 else 0.0\n",
        "        rr = sqrt(xrand[i,k,0]**2 + xrand[i,k,1]**2) #np.linalg.norm(xrand[i, k])\n",
        "\n",
        "        for t in range(start, min(stop, Nt)):\n",
        "            x1[t, k] = x1[start - 1, k] \\\n",
        "                               + (1-int(abs((r1+rr)/(Xdist[k]))))* xrand[i,k,0] \\\n",
        "                               - int(abs((r1+rr)/(Xdist[k])))* \\\n",
        "                               copysign(1,x1[start-1,k]/xrand[i,k,0])* xrand[i,k,0]\n",
        "\n",
        "\n",
        "            y1[t, k] = y1[start - 1, k] \\\n",
        "                                 + (1-int(abs((r1+rr)/(Xdist[k]))))* xrand[i,k,1] \\\n",
        "                                - int(abs((r1+rr)/(Xdist[k])))* \\\n",
        "                                 copysign(1,y1[start-1,k]/xrand[i,k,1])* xrand[i,k,1]\n",
        "\n",
        "        i += 1\n",
        "\n",
        "    stop = 1\n",
        "    i = 0\n",
        "\n",
        "    # Simulating the jump diffusion process\n",
        "    while stop < Nt:\n",
        "        start = stop\n",
        "        stop += int(trand2[i, k, 0])  # Update stop time with waiting time\n",
        "\n",
        "        for t in range(start, min(stop, Nt)):\n",
        "            x2[t, k] = x2[start - 1, k] + xrand2[i, k, 0]\n",
        "            y2[t, k] = y2[start - 1, k] + xrand2[i, k, 1]\n",
        "\n",
        "        i += 1\n",
        "\n",
        "def ctrw_ens2d_cuda(sig, tau, sig2, tau2, X0, Nens, Nt=1000, dt=1.0):\n",
        "    \"\"\"\n",
        "    Generate 2D Continuous Time Random Walk (CTRW) trajectories using CUDA acceleration.\n",
        "\n",
        "    This function simulates a combination of caged diffusion and jump diffusion using GPU parallelism.\n",
        "\n",
        "    Parameters:\n",
        "    - sig (float): Standard deviation of caged diffusion jump lengths.\n",
        "    - tau (float): Mean waiting time for caged diffusion.\n",
        "    - sig2 (float): Standard deviation of jump diffusion jump lengths.\n",
        "    - tau2 (float): Mean waiting time for jump diffusion.\n",
        "    - X0 (float): Mean cage size.\n",
        "    - Nens (int): Number of trajectories.\n",
        "    - Nt (int, optional): Number of time steps (default: 1000).\n",
        "    - dt (float, optional): Time step size (default: 1.0).\n",
        "\n",
        "    Returns:\n",
        "    - T (ndarray): Array of time points.\n",
        "    - x (ndarray): X-coordinates of the trajectories.\n",
        "    - y (ndarray): Y-coordinates of the trajectories.\n",
        "    \"\"\"\n",
        "    T = np.arange(0, Nt) * dt  # Time array\n",
        "\n",
        "    # Generate waiting times and jump lengths for both diffusion types\n",
        "    trand = np.random.exponential(tau, (2 * Nt, Nens, 1)).astype(np.float32)\n",
        "    xrand = np.random.normal(0.0, sig, (2 * Nt, Nens, 2)).astype(np.float32)\n",
        "\n",
        "    Xdist = np.random.exponential(X0, (Nens)).astype(np.float32)\n",
        "    Xdist = np.clip(Xdist, 2 * sig, 12 * sig)  # Clip cage sizes to prevent extreme values\n",
        "\n",
        "    trand2 = np.random.exponential(tau2, (2 * Nt, Nens, 1)).astype(np.float32)\n",
        "    xrand2 = np.random.normal(0.0, sig2, (2 * Nt, Nens, 2)).astype(np.float32)\n",
        "\n",
        "    # Initialize trajectory arrays\n",
        "    x1 = np.zeros((Nt, Nens), dtype=np.float32)\n",
        "    y1 = np.zeros((Nt, Nens), dtype=np.float32)\n",
        "    x2 = np.zeros((Nt, Nens), dtype=np.float32)\n",
        "    y2 = np.zeros((Nt, Nens), dtype=np.float32)\n",
        "\n",
        "    # Move data to GPU\n",
        "    d_trand = cuda.to_device(trand)\n",
        "    d_xrand = cuda.to_device(xrand)\n",
        "    d_trand2 = cuda.to_device(trand2)\n",
        "    d_xrand2 = cuda.to_device(xrand2)\n",
        "    d_Xdist = cuda.to_device(Xdist)\n",
        "    d_x1 = cuda.to_device(x1)\n",
        "    d_y1 = cuda.to_device(y1)\n",
        "    d_x2 = cuda.to_device(x2)\n",
        "    d_y2 = cuda.to_device(y2)\n",
        "\n",
        "    # Define CUDA execution configuration\n",
        "    threads_per_block = 128\n",
        "    blocks_per_grid = (Nens + threads_per_block - 1) // threads_per_block\n",
        "\n",
        "    # Launch CUDA kernel\n",
        "    ctrw_kernel[blocks_per_grid, threads_per_block](\n",
        "        d_trand, d_xrand, d_trand2, d_xrand2, d_Xdist, d_x1, d_y1, d_x2, d_y2, Nt, Nens\n",
        "    )\n",
        "\n",
        "    # Copy results back to host\n",
        "    d_x1.copy_to_host(x1)\n",
        "    d_y1.copy_to_host(y1)\n",
        "    d_x2.copy_to_host(x2)\n",
        "    d_y2.copy_to_host(y2)\n",
        "\n",
        "    return T, x1 + x2, y1 + y2\n",
        "\n",
        "\n",
        "\n",
        "def ctrw_ens2d_cuda_uniform(sig, tau, sig2, tau2, a, b, Nens, Nt=1000, dt=1.0):\n",
        "    \"\"\"\n",
        "    Generate 2D Continuous Time Random Walk (CTRW) trajectories using CUDA acceleration.\n",
        "\n",
        "    This function simulates a combination of caged diffusion and jump diffusion using GPU parallelism.\n",
        "\n",
        "    Parameters:\n",
        "    - sig (float): Standard deviation of caged diffusion jump lengths.\n",
        "    - tau (float): Mean waiting time for caged diffusion.\n",
        "    - sig2 (float): Standard deviation of jump diffusion jump lengths.\n",
        "    - tau2 (float): Mean waiting time for jump diffusion.\n",
        "    - X0 (float): Mean cage size.\n",
        "    - Nens (int): Number of trajectories.\n",
        "    - Nt (int, optional): Number of time steps (default: 1000).\n",
        "    - dt (float, optional): Time step size (default: 1.0).\n",
        "\n",
        "    Returns:\n",
        "    - T (ndarray): Array of time points.\n",
        "    - x (ndarray): X-coordinates of the trajectories.\n",
        "    - y (ndarray): Y-coordinates of the trajectories.\n",
        "    \"\"\"\n",
        "    T = np.arange(0, Nt) * dt  # Time array\n",
        "\n",
        "    # Generate waiting times and jump lengths for both diffusion types\n",
        "    trand = np.random.exponential(tau, (2 * Nt, Nens, 1)).astype(np.float32)\n",
        "    xrand = np.random.normal(0.0, sig, (2 * Nt, Nens, 2)).astype(np.float32)\n",
        "\n",
        "    Xdist = np.random.uniform(a,b, (Nens)).astype(np.float32)\n",
        "    Xdist = np.clip(Xdist, 2 * sig, 12 * sig)  # Clip cage sizes to prevent extreme values\n",
        "\n",
        "    trand2 = np.random.exponential(tau2, (2 * Nt, Nens, 1)).astype(np.float32)\n",
        "    xrand2 = np.random.normal(0.0, sig2, (2 * Nt, Nens, 2)).astype(np.float32)\n",
        "\n",
        "    # Initialize trajectory arrays\n",
        "    x1 = np.zeros((Nt, Nens), dtype=np.float32)\n",
        "    y1 = np.zeros((Nt, Nens), dtype=np.float32)\n",
        "    x2 = np.zeros((Nt, Nens), dtype=np.float32)\n",
        "    y2 = np.zeros((Nt, Nens), dtype=np.float32)\n",
        "\n",
        "    # Move data to GPU\n",
        "    d_trand = cuda.to_device(trand)\n",
        "    d_xrand = cuda.to_device(xrand)\n",
        "    d_trand2 = cuda.to_device(trand2)\n",
        "    d_xrand2 = cuda.to_device(xrand2)\n",
        "    d_Xdist = cuda.to_device(Xdist)\n",
        "    d_x1 = cuda.to_device(x1)\n",
        "    d_y1 = cuda.to_device(y1)\n",
        "    d_x2 = cuda.to_device(x2)\n",
        "    d_y2 = cuda.to_device(y2)\n",
        "\n",
        "    # Define CUDA execution configuration\n",
        "    threads_per_block = 128\n",
        "    blocks_per_grid = (Nens + threads_per_block - 1) // threads_per_block\n",
        "\n",
        "    # Launch CUDA kernel\n",
        "    ctrw_kernel[blocks_per_grid, threads_per_block](\n",
        "        d_trand, d_xrand, d_trand2, d_xrand2, d_Xdist, d_x1, d_y1, d_x2, d_y2, Nt, Nens\n",
        "    )\n",
        "\n",
        "    # Copy results back to host\n",
        "    d_x1.copy_to_host(x1)\n",
        "    d_y1.copy_to_host(y1)\n",
        "    d_x2.copy_to_host(x2)\n",
        "    d_y2.copy_to_host(y2)\n",
        "\n",
        "    return T, x1 + x2, y1 + y2"
      ],
      "metadata": {
        "id": "rDkWreueAn88"
      },
      "execution_count": 24,
      "outputs": []
    },
    {
      "cell_type": "code",
      "source": [
        "\n",
        "Tmin = 1 # in ps\n",
        "Tmax = 1000 # in ps\n",
        "NT = int(Tmax/Tmin)*10\n",
        "delt = (Tmax-0.0)/NT\n",
        "print (\"Delta T, No. of timesteps:\",delt,NT)\n",
        "\n",
        "Dint = 0.21 #give it Ang^2/ps\n",
        "sig = 0.5 #in Ang\n",
        "xmax = 5.*sig\n",
        "tau = sig**2/(2*Dint)/delt  # from ps, convert it into the required units according to delt\n",
        "print (\"Waiting time for confined motion (in Delta T units)\",tau)\n",
        "\n",
        "Dj = 0.03 # in Ang^2/ps\n",
        "tau2 = 40 # in ps\n",
        "sig2 = np.sqrt(2*Dj*tau2)\n",
        "print (\"Sigma 2:\", sig2)\n",
        "tau2 = tau2/delt\n",
        "print (\"Waiting time for jump motion (in Delta T units)\",tau2)\n",
        "X0  = 1.0\n",
        "\n",
        "nens = 1000\n",
        "\n",
        "start_time = tpack.time()\n",
        "\n",
        "tim, xtall, ytall = ctrw_ens2d_cuda(sig,tau,sig2,tau2,X0,nens,Nt=NT,dt=delt)\n",
        "#tim1, xtall1, ytall1 = ctrw_ens2d_cuda_uniform(sig,tau,sig2,tau2,0.95, 1.05,nens,Nt=NT,dt=delt)\n",
        "\n",
        "end_time = tpack.time()\n",
        "print(f\"\\nTotal time elapsed: {end_time - start_time:.2f} seconds\")"
      ],
      "metadata": {
        "colab": {
          "base_uri": "https://localhost:8080/"
        },
        "id": "kg2dzviIBQ6x",
        "outputId": "a355e63b-3bf2-4c1f-dd3a-cf16ffae2282"
      },
      "execution_count": 87,
      "outputs": [
        {
          "output_type": "stream",
          "name": "stdout",
          "text": [
            "Delta T, No. of timesteps: 0.1 10000\n",
            "Waiting time for confined motion (in Delta T units) 5.952380952380952\n",
            "Sigma 2: 1.5491933384829668\n",
            "Waiting time for jump motion (in Delta T units) 400.0\n",
            "\n",
            "Total time elapsed: 3.68 seconds\n"
          ]
        }
      ]
    },
    {
      "cell_type": "code",
      "source": [
        "rall = np.stack((xtall,ytall),axis=-1)\n",
        "rall1 = np.stack((xtall1,ytall1),axis=-1)\n",
        "print (rall.shape)\n",
        "print (xtall.shape)\n",
        "print (rall[:,99,:].shape)\n",
        "k = 145\n",
        "plt.plot(xtall[:,k],ytall[:,k], color='blue', label=\"Exponential\")\n",
        "#plt.plot(xtall1[:,k],ytall1[:,k], color='red', label=\"Uniform\")\n",
        "plt.xlabel(\"X\")\n",
        "plt.ylabel(\"Y\")\n",
        "plt.legend()\n",
        "plt.show()"
      ],
      "metadata": {
        "colab": {
          "base_uri": "https://localhost:8080/",
          "height": 501
        },
        "id": "FnaEX9bjE75C",
        "outputId": "8d25f298-9dd6-4f09-fb32-ed7f899b290d"
      },
      "execution_count": 88,
      "outputs": [
        {
          "output_type": "stream",
          "name": "stdout",
          "text": [
            "(10000, 1000, 2)\n",
            "(10000, 1000)\n",
            "(10000, 2)\n"
          ]
        },
        {
          "output_type": "display_data",
          "data": {
            "text/plain": [
              "<Figure size 640x480 with 1 Axes>"
            ],
            "image/png": "[encoded data removed]"
          },
          "metadata": {}
        }
      ]
    },
    {
      "cell_type": "code",
      "source": [],
      "metadata": {
        "id": "k4H80C_1bQuX"
      },
      "execution_count": 88,
      "outputs": []
    },
    {
      "cell_type": "code",
      "source": [
        "msd = np.zeros(xtall.shape,dtype='float64') #initialise an array for MSD\n",
        "msd1 = np.zeros(xtall1.shape,dtype='float64') #initialise an array for MSD\n",
        "print (msd.shape)\n",
        "for i in range(0,xtall.shape[1]):\n",
        "#     print i, np.sum(msd[:,i])\n",
        "    msd[:,i] = calc_msd(rall[:,i,:])\n",
        "    msd1[:,i] = calc_msd(rall1[:,i,:])"
      ],
      "metadata": {
        "colab": {
          "base_uri": "https://localhost:8080/"
        },
        "id": "34wfDufHJ3vO",
        "outputId": "d79693ab-f24b-477e-b864-c0f6944353c9"
      },
      "execution_count": 89,
      "outputs": [
        {
          "output_type": "stream",
          "name": "stdout",
          "text": [
            "(10000, 1000)\n"
          ]
        }
      ]
    },
    {
      "cell_type": "code",
      "source": [
        "# plt.style.use('seaborn-notebook')\n",
        "msd_avg = np.average(msd,axis=1)\n",
        "msd1_avg = np.average(msd1,axis=1)\n",
        "print (msd_avg.shape)\n",
        "print( msd_avg.shape)\n",
        "# print msd_avg\n",
        "plt.plot(tim,msd_avg, label=\"Exponential\")\n",
        "plt.plot(tim,msd1_avg, label=\"Uniform\")\n",
        "plt.xscale(\"log\")\n",
        "plt.yscale(\"log\")\n",
        "plt.ylim(0.1,200)\n",
        "# plt.savefig(\"test.png\",bbox_inches='tight',dpi=300)\n",
        "plt.xlabel(\"Time (ps)\")\n",
        "plt.ylabel(\"MSD\")\n",
        "plt.legend()\n",
        "plt.show()"
      ],
      "metadata": {
        "id": "_kIOIjm_J7cX",
        "colab": {
          "base_uri": "https://localhost:8080/",
          "height": 489
        },
        "outputId": "1f33a3c1-862a-4b12-8e5f-62cd2462b409"
      },
      "execution_count": 90,
      "outputs": [
        {
          "output_type": "stream",
          "name": "stdout",
          "text": [
            "(10000,)\n",
            "(10000,)\n"
          ]
        },
        {
          "output_type": "display_data",
          "data": {
            "text/plain": [
              "<Figure size 640x480 with 1 Axes>"
            ],
            "image/png": "[encoded data removed]"
          },
          "metadata": {}
        }
      ]
    },
    {
      "cell_type": "code",
      "source": [
        "def alpha(t, msd):\n",
        "  return np.gradient(np.log(msd))/np.gradient(np.log(t))"
      ],
      "metadata": {
        "id": "VduMG7aapUfo"
      },
      "execution_count": 91,
      "outputs": []
    },
    {
      "cell_type": "code",
      "source": [
        "alpha_avg = alpha(tim,msd_avg)\n",
        "alpha_avg1 = alpha(tim,msd1_avg)\n",
        "plt.plot(tim,alpha_avg, label=\"Exponential\")\n",
        "#plt.plot(tim,alpha_avg1, label=\"Uniform\")\n",
        "plt.ylim(-0.05,1.05)\n",
        "plt.axhline(1.0, ls=\":\", color=\"black\")\n",
        "plt.xscale(\"log\")\n",
        "plt.legend()\n",
        "plt.xlabel(\"Time (ps)\")\n",
        "plt.ylabel(\"Alpha\")"
      ],
      "metadata": {
        "id": "KjXsKNViOJ2U",
        "outputId": "4b0a2401-8c77-42f3-ea96-e348b5d1504f",
        "colab": {
          "base_uri": "https://localhost:8080/",
          "height": 526
        }
      },
      "execution_count": 92,
      "outputs": [
        {
          "output_type": "stream",
          "name": "stderr",
          "text": [
            "/tmp/ipython-input-91-3536212005.py:2: RuntimeWarning: divide by zero encountered in log\n",
            "  return np.gradient(np.log(msd))/np.gradient(np.log(t))\n"
          ]
        },
        {
          "output_type": "execute_result",
          "data": {
            "text/plain": [
              "Text(0, 0.5, 'Alpha')"
            ]
          },
          "metadata": {},
          "execution_count": 92
        },
        {
          "output_type": "display_data",
          "data": {
            "text/plain": [
              "<Figure size 640x480 with 1 Axes>"
            ],
            "image/png": "[encoded data removed]"
          },
          "metadata": {}
        }
      ]
    },
    {
      "cell_type": "code",
      "source": [],
      "metadata": {
        "id": "g-tKaRxaOPst"
      },
      "execution_count": 30,
      "outputs": []
    }
  ]
}
{
  "nbformat": 4,
  "nbformat_minor": 0,
  "metadata": {
    "colab": {
      "provenance": [],
      "gpuType": "T4",
      "authorship_tag": "ABX9TyOM/hpg6P7nsrimQpT+q/cG",
      "include_colab_link": true
    },
    "kernelspec": {
      "name": "python3",
      "display_name": "Python 3"
    },
    "language_info": {
      "name": "python"
    },
    "accelerator": "GPU"
  },
  "cells": [
    {
      "cell_type": "markdown",
      "metadata": {
        "id": "view-in-github",
        "colab_type": "text"
      },
      "source": [
        "<a href=\"https://colab.research.google.com/github/harish-srini/CTRW_2state/blob/main/CTRW_2step_Cuda.ipynb\" target=\"_parent\"><img src=\"https://colab.research.google.com/assets/colab-badge.svg\" alt=\"Open In Colab\"/></a>"
      ]
    },
    {
      "cell_type": "code",
      "execution_count": 1,
      "metadata": {
        "id": "e8ocEHUfAY1q"
      },
      "outputs": [],
      "source": [
        "import numpy as np\n",
        "from numba import cuda, float32\n",
        "import matplotlib.pyplot as plt\n",
        "from math import sqrt\n",
        "from math import copysign\n",
        "import time as tpack"
      ]
    },
    {
      "cell_type": "code",
      "source": [
        "!uv pip install -q --system numba-cuda==0.4.0\n",
        "from numba import config\n",
        "config.CUDA_ENABLE_PYNVJITLINK = 1"
      ],
      "metadata": {
        "id": "s-MLj-M8VrQr"
      },
      "execution_count": 2,
      "outputs": []
    },
    {
      "cell_type": "code",
      "source": [
        "!nvidia-smi"
      ],
      "metadata": {
        "colab": {
          "base_uri": "https://localhost:8080/"
        },
        "id": "gQc6Nc9JjT7B",
        "outputId": "ad013a82-e8c1-4e46-eea1-0fb700cc91b9"
      },
      "execution_count": null,
      "outputs": [
        {
          "output_type": "stream",
          "name": "stdout",
          "text": [
            "Sat Mar  8 16:18:47 2025       \n",
            "+-----------------------------------------------------------------------------------------+\n",
            "| NVIDIA-SMI 550.54.15              Driver Version: 550.54.15      CUDA Version: 12.4     |\n",
            "|-----------------------------------------+------------------------+----------------------+\n",
            "| GPU  Name                 Persistence-M | Bus-Id          Disp.A | Volatile Uncorr. ECC |\n",
            "| Fan  Temp   Perf          Pwr:Usage/Cap |           Memory-Usage | GPU-Util  Compute M. |\n",
            "|                                         |                        |               MIG M. |\n",
            "|=========================================+========================+======================|\n",
            "|   0  Tesla T4                       Off |   00000000:00:04.0 Off |                    0 |\n",
            "| N/A   70C    P0             32W /   70W |     738MiB /  15360MiB |      0%      Default |\n",
            "|                                         |                        |                  N/A |\n",
            "+-----------------------------------------+------------------------+----------------------+\n",
            "                                                                                         \n",
            "+-----------------------------------------------------------------------------------------+\n",
            "| Processes:                                                                              |\n",
            "|  GPU   GI   CI        PID   Type   Process name                              GPU Memory |\n",
            "|        ID   ID                                                               Usage      |\n",
            "|=========================================================================================|\n",
            "+-----------------------------------------------------------------------------------------+\n"
          ]
        }
      ]
    },
    {
      "cell_type": "code",
      "source": [
        "import sys\n",
        "\n",
        "def sizeof_fmt(num, suffix='B'):\n",
        "    \"\"\"Convert a size in bytes to a more readable format.\"\"\"\n",
        "    for unit in ['','K','M','G','T','P','E','Z']:\n",
        "        if abs(num) < 1024.0:\n",
        "            return \"%3.1f%s%s\" % (num, unit, suffix)\n",
        "        num /= 1024.0\n",
        "    return \"%.1f%s%s\" % (num, 'Y', suffix)\n",
        "\n",
        "def get_variable_sizes(min_size_mb=1):\n",
        "    \"\"\"Get the size of all variables in the global scope and print them.\"\"\"\n",
        "    min_size_bytes = min_size_mb * 1024 * 1024\n",
        "    variables = {}\n",
        "    total_size = 0\n",
        "\n",
        "    for name, obj in globals().items():\n",
        "        if not name.startswith('_') and not callable(obj) and not isinstance(obj, type(sys)):\n",
        "            size = sys.getsizeof(obj)\n",
        "            total_size += size\n",
        "            if size >= min_size_bytes:\n",
        "                variables[name] = size\n",
        "\n",
        "    # Sort variables by size\n",
        "    sorted_vars = sorted(variables.items(), key=lambda item: item[1], reverse=True)\n",
        "\n",
        "    # Print the variable sizes\n",
        "    print(f\"{'Variable':<20}{'Size':>15}\")\n",
        "    print(\"-\" * 35)\n",
        "    for name, size in sorted_vars:\n",
        "        print(f\"{name:<20}{sizeof_fmt(size):>15}\")\n",
        "\n",
        "    # Print the total size\n",
        "    print(\"\\nTotal size of all variables: \", sizeof_fmt(total_size))"
      ],
      "metadata": {
        "id": "NQXHyq8-oQiN"
      },
      "execution_count": null,
      "outputs": []
    },
    {
      "cell_type": "code",
      "source": [],
      "metadata": {
        "id": "LurxwHu1oQsv"
      },
      "execution_count": null,
      "outputs": []
    },
    {
      "cell_type": "markdown",
      "metadata": {
        "id": "S459yr9TNohv"
      },
      "source": [
        "#### Define a function that can write two numpy arrays or one column and other two-dimensional matrix"
      ]
    },
    {
      "cell_type": "code",
      "execution_count": null,
      "metadata": {
        "id": "x3LW9AnzNohx"
      },
      "outputs": [],
      "source": [
        "#writes a two column file taking two numpy arrays\n",
        "def write_to_file(x,y,fname):\n",
        "    if (x.ndim > 1):\n",
        "        print (\"Can write only one dimensional x-axis array, The dimension of x-array is \", x.ndim)\n",
        "    elif(y.ndim > 2):\n",
        "        print (\"Can write only two dimensional y-axis array, The dimension of y-array is \", y.ndim)\n",
        "    elif (y.ndim == 2 and x.shape[0] ==  y.shape[1]):\n",
        "        f = open(fname,'w')\n",
        "        for i in range(x.shape[0]):\n",
        "            ystr = ''\n",
        "            for k in range(y.shape[0]):\n",
        "                ystr = ystr+'\\t'+str(y[k,i])\n",
        "            f.write(str(x[i])+ystr+'\\n')\n",
        "        f.close()\n",
        "    elif (y.ndim == 1 and  x.shape[0] ==  y.shape[0]):\n",
        "        f = open(fname,'w')\n",
        "        for i in range(x.shape[0]):\n",
        "            f.write(str(x[i])+'\\t'+str(y[i])+'\\n')\n",
        "        f.close()\n",
        "    else:\n",
        "        print (\"The arrays have incompatible number of rows with \", x.shape[0], \" and \", y.shape[1])\n",
        "    return"
      ]
    },
    {
      "cell_type": "markdown",
      "metadata": {
        "id": "RIaedefMNohy"
      },
      "source": [
        "#### Define a function that can read a file and write numpy arrays"
      ]
    },
    {
      "cell_type": "code",
      "execution_count": null,
      "metadata": {
        "id": "mTrxOIIhNohz"
      },
      "outputs": [],
      "source": [
        "#read a n column file and returns two numpy arrays\n",
        "def read_file(fname):\n",
        "    f = open(fname,'r')\n",
        "    lines = f.readlines()\n",
        "    #check the number of columns\n",
        "    ncol = len(lines[0].split())\n",
        "    nrow = len(lines)\n",
        "    f.close()\n",
        "\n",
        "    if (ncol < 1):\n",
        "        print (\"The file has less than one column, something wrong!!\")\n",
        "        return [0],[0]\n",
        "\n",
        "    elif (ncol == 1):\n",
        "        x = np.zeros((nrow),dtype='float')\n",
        "        for i in range(nrow):\n",
        "            x[i] = float(lines[i].split()[0])\n",
        "        return x\n",
        "\n",
        "    elif (ncol == 2):\n",
        "\n",
        "        x = np.zeros((nrow),dtype='float')\n",
        "        y = np.zeros((nrow),dtype='float')\n",
        "        for i in range(nrow):\n",
        "            x[i] = float(lines[i].split()[0])\n",
        "            y[i] = float(lines[i].split()[1])\n",
        "        return x,y\n",
        "\n",
        "    else :\n",
        "        x = np.zeros((nrow),dtype='float')\n",
        "        y = np.zeros((ncol-1,nrow),dtype='float')\n",
        "        for i in range(nrow):\n",
        "            x[i] = float( lines[i].split()[0] )\n",
        "            for k in range(1,ncol):\n",
        "                y[k-1,i] = float( lines[i].split()[k] )\n",
        "        return x,y\n"
      ]
    },
    {
      "cell_type": "code",
      "source": [],
      "metadata": {
        "id": "v2XWRndioeFM"
      },
      "execution_count": null,
      "outputs": []
    },
    {
      "cell_type": "code",
      "source": [],
      "metadata": {
        "id": "PQDcMOMboeR1"
      },
      "execution_count": null,
      "outputs": []
    },
    {
      "cell_type": "code",
      "source": [
        "@cuda.jit\n",
        "def ctrw_kernel(trand, xrand, trand2, xrand2, Xdist, x1, y1, x2, y2, Nt, Nens):\n",
        "    \"\"\"\n",
        "    CUDA kernel for simulating 2D Continuous Time Random Walk (CTRW) with a cage-jump diffusion mechanism.\n",
        "\n",
        "    This function executes in parallel across multiple CUDA threads to simulate trajectories for each ensemble member.\n",
        "\n",
        "    Parameters:\n",
        "    - trand (ndarray): Waiting times for caged diffusion.\n",
        "    - xrand (ndarray): Jump lengths for caged diffusion.\n",
        "    - trand2 (ndarray): Waiting times for jump diffusion.\n",
        "    - xrand2 (ndarray): Jump lengths for jump diffusion.\n",
        "    - Xdist (ndarray): Cage size distribution for each trajectory.\n",
        "    - x1, y1 (ndarray): Position arrays for caged diffusion.\n",
        "    - x2, y2 (ndarray): Position arrays for jump diffusion.\n",
        "    - Nt (int): Number of time steps.\n",
        "    - Nens (int): Number of ensemble trajectories.\n",
        "    \"\"\"\n",
        "    k = cuda.grid(1)  # Get thread index\n",
        "    if k >= Nens:\n",
        "        return\n",
        "\n",
        "    stop = 0\n",
        "    i = 0\n",
        "\n",
        "    # Simulating the caged diffusion process\n",
        "    while stop < Nt:\n",
        "        start = stop\n",
        "        stop += int(trand[i, k, 0])  # Update stop time with waiting time\n",
        "\n",
        "        # Compute radius and norm of random jump\n",
        "        r1 = sqrt(x1[start - 1, k]**2 + y1[start - 1, k]**2) if start > 0 else 0.0\n",
        "        rr = xrand[i,k,0]**2 + xrand[i,k,1]**2 #np.linalg.norm(xrand[i, k])\n",
        "\n",
        "        for t in range(start, min(stop, Nt)):\n",
        "            x1[t, k] = x1[start - 1, k] \\\n",
        "                               + (1-int(abs((r1+rr)/(Xdist[k]))))* xrand[i,k,0] \\\n",
        "                               - int(abs((r1+rr)/(Xdist[k])))* \\\n",
        "                               copysign(1,x1[start-1,k]/xrand[i,k,0])* xrand[i,k,0]\n",
        "\n",
        "\n",
        "            y1[t, k] = y1[start - 1, k] \\\n",
        "                                 + (1-int(abs((r1+rr)/(Xdist[k]))))* xrand[i,k,1] \\\n",
        "                                - int(abs((r1+rr)/(Xdist[k])))* \\\n",
        "                                 copysign(1,y1[start-1,k]/xrand[i,k,1])* xrand[i,k,1]\n",
        "\n",
        "        i += 1\n",
        "\n",
        "    stop = 1\n",
        "    i = 0\n",
        "\n",
        "    # Simulating the jump diffusion process\n",
        "    while stop < Nt:\n",
        "        start = stop\n",
        "        stop += int(trand2[i, k, 0])  # Update stop time with waiting time\n",
        "\n",
        "        for t in range(start, min(stop, Nt)):\n",
        "            x2[t, k] = x2[start - 1, k] + xrand2[i, k, 0]\n",
        "            y2[t, k] = y2[start - 1, k] + xrand2[i, k, 1]\n",
        "\n",
        "        i += 1\n",
        "\n",
        "def ctrw_ens2d_cuda(sig, tau, sig2, tau2, X0, Nens, Nt=1000, dt=1.0):\n",
        "    \"\"\"\n",
        "    Generate 2D Continuous Time Random Walk (CTRW) trajectories using CUDA acceleration.\n",
        "\n",
        "    This function simulates a combination of caged diffusion and jump diffusion using GPU parallelism.\n",
        "\n",
        "    Parameters:\n",
        "    - sig (float): Standard deviation of caged diffusion jump lengths.\n",
        "    - tau (float): Mean waiting time for caged diffusion.\n",
        "    - sig2 (float): Standard deviation of jump diffusion jump lengths.\n",
        "    - tau2 (float): Mean waiting time for jump diffusion.\n",
        "    - X0 (float): Mean cage size.\n",
        "    - Nens (int): Number of trajectories.\n",
        "    - Nt (int, optional): Number of time steps (default: 1000).\n",
        "    - dt (float, optional): Time step size (default: 1.0).\n",
        "\n",
        "    Returns:\n",
        "    - T (ndarray): Array of time points.\n",
        "    - x (ndarray): X-coordinates of the trajectories.\n",
        "    - y (ndarray): Y-coordinates of the trajectories.\n",
        "    \"\"\"\n",
        "    T = np.arange(0, Nt) * dt  # Time array\n",
        "\n",
        "    # Generate waiting times and jump lengths for both diffusion types\n",
        "    trand = np.random.exponential(tau, (2 * Nt, Nens, 1)).astype(np.float32)\n",
        "    xrand = np.random.normal(0.0, sig, (2 * Nt, Nens, 2)).astype(np.float32)\n",
        "\n",
        "    Xdist = np.random.exponential(X0, (Nens)).astype(np.float32)\n",
        "    Xdist = np.clip(Xdist, 2 * sig, 12 * sig)  # Clip cage sizes to prevent extreme values\n",
        "\n",
        "    trand2 = np.random.exponential(tau2, (2 * Nt, Nens, 1)).astype(np.float32)\n",
        "    xrand2 = np.random.normal(0.0, sig2, (2 * Nt, Nens, 2)).astype(np.float32)\n",
        "\n",
        "    # Initialize trajectory arrays\n",
        "    x1 = np.zeros((Nt, Nens), dtype=np.float32)\n",
        "    y1 = np.zeros((Nt, Nens), dtype=np.float32)\n",
        "    x2 = np.zeros((Nt, Nens), dtype=np.float32)\n",
        "    y2 = np.zeros((Nt, Nens), dtype=np.float32)\n",
        "\n",
        "    # Move data to GPU\n",
        "    d_trand = cuda.to_device(trand)\n",
        "    d_xrand = cuda.to_device(xrand)\n",
        "    d_trand2 = cuda.to_device(trand2)\n",
        "    d_xrand2 = cuda.to_device(xrand2)\n",
        "    d_Xdist = cuda.to_device(Xdist)\n",
        "    d_x1 = cuda.to_device(x1)\n",
        "    d_y1 = cuda.to_device(y1)\n",
        "    d_x2 = cuda.to_device(x2)\n",
        "    d_y2 = cuda.to_device(y2)\n",
        "\n",
        "    # Define CUDA execution configuration\n",
        "    threads_per_block = 256\n",
        "    blocks_per_grid = (Nens + threads_per_block - 1) // threads_per_block\n",
        "\n",
        "    # Launch CUDA kernel\n",
        "    ctrw_kernel[blocks_per_grid, threads_per_block](\n",
        "        d_trand, d_xrand, d_trand2, d_xrand2, d_Xdist, d_x1, d_y1, d_x2, d_y2, Nt, Nens\n",
        "    )\n",
        "\n",
        "    # Copy results back to host\n",
        "    d_x1.copy_to_host(x1)\n",
        "    d_y1.copy_to_host(y1)\n",
        "    d_x2.copy_to_host(x2)\n",
        "    d_y2.copy_to_host(y2)\n",
        "\n",
        "    return T, x1 + x2, y1 + y2"
      ],
      "metadata": {
        "id": "rDkWreueAn88"
      },
      "execution_count": null,
      "outputs": []
    },
    {
      "cell_type": "code",
      "source": [
        "\n",
        "Tmin = 1 # in ps\n",
        "Tmax = 1000 # in ps\n",
        "NT = int(Tmax/Tmin)*10\n",
        "delt = (Tmax-0.0)/NT\n",
        "print (\"Delta T, No. of timesteps:\",delt,NT)\n",
        "\n",
        "Dint = 0.21 #give it Ang^2/ps\n",
        "sig = 0.3 #in Ang\n",
        "xmax = 5.*sig\n",
        "tau = sig**2/(2*Dint)/delt  # from ps, convert it into the required units according to delt\n",
        "print (\"Waiting time for confined motion (in Delta T units)\",tau)\n",
        "\n",
        "Dj = 0.03 # in Ang^2/ps\n",
        "tau2 = 40 # in ps\n",
        "sig2 = np.sqrt(2*Dj*tau2)\n",
        "print (\"Sigma 2:\", sig2)\n",
        "tau2 = tau2/delt\n",
        "print (\"Waiting time for jump motion (in Delta T units)\",tau2)\n",
        "X0  = 0.75\n",
        "\n",
        "nens = 500\n",
        "\n",
        "start_time = tpack.time()\n",
        "\n",
        "tim, xtall, ytall = ctrw_ens2d_cuda(sig,tau,sig2,tau2,X0,nens,Nt=NT,dt=delt)\n",
        "\n",
        "end_time = tpack.time()\n",
        "print(f\"\\nTotal time elapsed: {end_time - start_time:.2f} seconds\")"
      ],
      "metadata": {
        "colab": {
          "base_uri": "https://localhost:8080/"
        },
        "id": "kg2dzviIBQ6x",
        "outputId": "be592779-b991-48d7-a809-7052681e41dc"
      },
      "execution_count": null,
      "outputs": [
        {
          "output_type": "stream",
          "name": "stdout",
          "text": [
            "Delta T, No. of timesteps: 0.1 10000\n",
            "Waiting time for confined motion (in Delta T units) 2.142857142857143\n",
            "Sigma 2: 1.5491933384829668\n",
            "Waiting time for jump motion (in Delta T units) 400.0\n"
          ]
        },
        {
          "output_type": "stream",
          "name": "stderr",
          "text": [
            "/usr/local/lib/python3.11/dist-packages/numba_cuda/numba/cuda/dispatcher.py:579: NumbaPerformanceWarning: Grid size 2 will likely result in GPU under-utilization due to low occupancy.\n",
            "  warn(NumbaPerformanceWarning(msg))\n"
          ]
        },
        {
          "output_type": "stream",
          "name": "stdout",
          "text": [
            "\n",
            "Total time elapsed: 2.78 seconds\n"
          ]
        }
      ]
    },
    {
      "cell_type": "code",
      "source": [
        "rall = np.stack((xtall,ytall),axis=-1)\n",
        "print (rall.shape)\n",
        "print (xtall.shape)\n",
        "print (rall[:,99,:].shape)\n",
        "k = 12\n",
        "plt.plot(xtall[:,k],ytall[:,k], color='blue')\n",
        "plt.xlabel(\"X\")\n",
        "plt.ylabel(\"Y\")\n",
        "plt.show()"
      ],
      "metadata": {
        "colab": {
          "base_uri": "https://localhost:8080/",
          "height": 503
        },
        "id": "FnaEX9bjE75C",
        "outputId": "097e46eb-4f8e-435c-a609-cc78cc61ee35"
      },
      "execution_count": null,
      "outputs": [
        {
          "output_type": "stream",
          "name": "stdout",
          "text": [
            "(10000, 500, 2)\n",
            "(10000, 500)\n",
            "(10000, 2)\n"
          ]
        },
        {
          "output_type": "display_data",
          "data": {
            "text/plain": [
              "<Figure size 640x480 with 1 Axes>"
            ],
            "image/png": "[encoded data removed]"
          },
          "metadata": {}
        }
      ]
    },
    {
      "cell_type": "code",
      "source": [],
      "metadata": {
        "id": "k4H80C_1bQuX"
      },
      "execution_count": null,
      "outputs": []
    },
    {
      "cell_type": "code",
      "source": [],
      "metadata": {
        "colab": {
          "base_uri": "https://localhost:8080/"
        },
        "id": "34wfDufHJ3vO",
        "outputId": "3b043c1c-f777-493b-f086-c70539cf64af"
      },
      "execution_count": null,
      "outputs": [
        {
          "output_type": "stream",
          "name": "stdout",
          "text": [
            "/bin/bash: line 1: conda: command not found\n"
          ]
        }
      ]
    },
    {
      "cell_type": "code",
      "source": [],
      "metadata": {
        "id": "_kIOIjm_J7cX"
      },
      "execution_count": null,
      "outputs": []
    }
  ]
}